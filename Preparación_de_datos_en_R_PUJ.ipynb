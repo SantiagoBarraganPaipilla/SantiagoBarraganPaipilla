{
  "nbformat": 4,
  "nbformat_minor": 0,
  "metadata": {
    "colab": {
      "provenance": [],
      "include_colab_link": true
    },
    "kernelspec": {
      "name": "ir",
      "display_name": "R"
    },
    "language_info": {
      "name": "R"
    }
  },
  "cells": [
    {
      "cell_type": "markdown",
      "metadata": {
        "id": "view-in-github",
        "colab_type": "text"
      },
      "source": [
        "<a href=\"https://colab.research.google.com/github/SantiagoBarraganPaipilla/SantiagoBarraganPaipilla/blob/main/Preparaci%C3%B3n_de_datos_en_R_PUJ.ipynb\" target=\"_parent\"><img src=\"https://colab.research.google.com/assets/colab-badge.svg\" alt=\"Open In Colab\"/></a>"
      ]
    },
    {
      "cell_type": "markdown",
      "metadata": {
        "id": "QYa7dVgowBoP"
      },
      "source": [
        "# Preparación de datos en R\n",
        "## Probabilidad y estadística inferencial - Pontificia Universidad Javeriana\n",
        "### Santiago Barragan Paipilla <br> Facultad de ingeniería"
      ]
    },
    {
      "cell_type": "markdown",
      "metadata": {
        "id": "OIinu_9YwT03"
      },
      "source": [
        "# Variables estadísticas\n",
        "\n",
        "Una variable estadística es cualquier característica de interés para la investigación cuyo valor puede cambiar de un objeto a otro en la población.\n",
        "\n",
        "De acuerdo con la medición que realizan, las variables se clasifican en cuantitativas y cualitativas.\n",
        "\n",
        "1. **Variables cuantitativas:** También conocidas como variables *escalares*, las variables cuantitativas son las que toman como argumento cantidades numéricas (poseen unidades de medida). Son variables matemáticas.\n",
        "    + Variables discretas: Presentan separaciones o interrupciones en la escala de valores que pueden tomar. Dichas separaciones indican la ausencia de valores que la variable puede asumir.\n",
        "    * *Ejemplos:* número de hijos, nota de un parcial, dinero.\n",
        "    + Variables continuas: Pueden tomar cualquier valor dentro de un intervalo o una unión de intervalos de números reales. Solamente están limitadas por la precisión del aparato (o unidad) medidor.\n",
        "    * *Ejemplos:* temperatura, distancia, tiempo.\n",
        "\n",
        "2. **Variables cualitativas** También llamadas categóricas. Las variables cualitativas son las que expresan cualidades, características o modalidad. Cada modalidad se llama atributo o categoría y la medición consiste en clasificar el objeto en su correspondiente categoría.\n",
        "Se llaman dicotómicas cuando solo pueden tomar dos posibles valores y politómicas cuando tienen 3 o más categorías.\n",
        "\n",
        "  Nota: Las categorías son de tipo clasificatorio y *no es posible* realizar operaciones entre ellas, ni siquiera cuando los atributos son codificados para facilitar la manipulación de los datos.\n",
        "    * Variables nominales: Los atributos de la variable NO pueden ser sometidos a un criterio de orden objetivo y estándar.\n",
        "    * *Ejemplos:* color del pelo, medio de transporte, carrera que se estudia, género, estado civil.\n",
        "    * Variables ordinales: Las categorías de la variable pueden ordenarse de acuerdo con una escala objetiva.\n",
        "    * *Ejemplos:* estrato socioeconómico, nivel académico, clasificación de triage en urgencias."
      ]
    },
    {
      "cell_type": "markdown",
      "source": [
        "**tidyverse** es el paquete de R más utilizado y más eficiente para manipulación de datos. Vamos a instalarlo y a cargarlo en la sesión."
      ],
      "metadata": {
        "id": "RE-VLKUtd8K5"
      }
    },
    {
      "cell_type": "code",
      "source": [
        "install.packages(\"tidyverse\")"
      ],
      "metadata": {
        "colab": {
          "base_uri": "https://localhost:8080/"
        },
        "id": "003Q3lVreGRn",
        "outputId": "ad891e75-90ec-4180-ab60-4aa4d9c478a7"
      },
      "execution_count": null,
      "outputs": [
        {
          "output_type": "stream",
          "name": "stderr",
          "text": [
            "Installing package into ‘/usr/local/lib/R/site-library’\n",
            "(as ‘lib’ is unspecified)\n",
            "\n",
            "also installing the dependencies ‘textshaping’, ‘conflicted’, ‘jsonlite’, ‘ragg’, ‘stringr’\n",
            "\n",
            "\n",
            "Warning message in install.packages(\"tidyverse\"):\n",
            "“installation of package ‘textshaping’ had non-zero exit status”\n",
            "Warning message in install.packages(\"tidyverse\"):\n",
            "“installation of package ‘ragg’ had non-zero exit status”\n",
            "Warning message in install.packages(\"tidyverse\"):\n",
            "“installation of package ‘tidyverse’ had non-zero exit status”\n"
          ]
        }
      ]
    },
    {
      "cell_type": "code",
      "metadata": {
        "id": "eztKVCF9thN9",
        "colab": {
          "base_uri": "https://localhost:8080/"
        },
        "outputId": "baccb3b7-562d-4747-cd3a-5d7bf7ce298f"
      },
      "source": [
        "library(tidyverse)"
      ],
      "execution_count": null,
      "outputs": [
        {
          "output_type": "stream",
          "name": "stderr",
          "text": [
            "Warning message in system(\"timedatectl\", intern = TRUE):\n",
            "“running command 'timedatectl' had status 1”\n",
            "── \u001b[1mAttaching packages\u001b[22m ─────────────────────────────────────── tidyverse 1.3.1 ──\n",
            "\n",
            "\u001b[32m✔\u001b[39m \u001b[34mggplot2\u001b[39m 3.4.1     \u001b[32m✔\u001b[39m \u001b[34mpurrr  \u001b[39m 1.0.1\n",
            "\u001b[32m✔\u001b[39m \u001b[34mtibble \u001b[39m 3.2.1     \u001b[32m✔\u001b[39m \u001b[34mdplyr  \u001b[39m 1.1.1\n",
            "\u001b[32m✔\u001b[39m \u001b[34mtidyr  \u001b[39m 1.3.0     \u001b[32m✔\u001b[39m \u001b[34mstringr\u001b[39m 1.5.0\n",
            "\u001b[32m✔\u001b[39m \u001b[34mreadr  \u001b[39m 2.1.4     \u001b[32m✔\u001b[39m \u001b[34mforcats\u001b[39m 1.0.0\n",
            "\n",
            "── \u001b[1mConflicts\u001b[22m ────────────────────────────────────────── tidyverse_conflicts() ──\n",
            "\u001b[31m✖\u001b[39m \u001b[34mdplyr\u001b[39m::\u001b[32mfilter()\u001b[39m masks \u001b[34mstats\u001b[39m::filter()\n",
            "\u001b[31m✖\u001b[39m \u001b[34mdplyr\u001b[39m::\u001b[32mlag()\u001b[39m    masks \u001b[34mstats\u001b[39m::lag()\n",
            "\n"
          ]
        }
      ]
    },
    {
      "cell_type": "markdown",
      "metadata": {
        "id": "Qb0iNnO71JCa"
      },
      "source": [
        "#### Lectura de datos"
      ]
    },
    {
      "cell_type": "code",
      "source": [
        "# https://drive.google.com/file/d/1WzOZNbNjUpdwWHDYD4ExAsJC5tCjS8C_/view?usp=sharing\n",
        "system(\"gdown --id 1WzOZNbNjUpdwWHDYD4ExAsJC5tCjS8C_\")"
      ],
      "metadata": {
        "id": "Vorivx_9eTpO"
      },
      "execution_count": null,
      "outputs": []
    },
    {
      "cell_type": "code",
      "metadata": {
        "id": "gWyRl3dX1Pdj"
      },
      "source": [
        "COVID_19 <- read.csv(\"COVID19_Colombia_Clase.csv\", sep = \";\")"
      ],
      "execution_count": null,
      "outputs": []
    },
    {
      "cell_type": "markdown",
      "source": [
        "A continuación, vamos a explorar cómo está leyendo R las columnas del conjunto de datos. Usamos la función glimpse de tidyverse."
      ],
      "metadata": {
        "id": "V9iLDma5egD5"
      }
    },
    {
      "cell_type": "code",
      "source": [
        "COVID_19 %>% glimpse()"
      ],
      "metadata": {
        "colab": {
          "base_uri": "https://localhost:8080/"
        },
        "id": "omQ3EM1Tefve",
        "outputId": "ba22a501-0848-4e61-d594-eb7151de868a"
      },
      "execution_count": null,
      "outputs": [
        {
          "output_type": "stream",
          "name": "stdout",
          "text": [
            "Rows: 1,000,000\n",
            "Columns: 13\n",
            "$ FECHA_DE_INICIO_DE_SINTOMAS \u001b[3m\u001b[90m<chr>\u001b[39m\u001b[23m NA, \"2021-05-26\", \"2020-12-27\", \"2020-12-2…\n",
            "$ FECHA_DIAGNOSTICO           \u001b[3m\u001b[90m<chr>\u001b[39m\u001b[23m \"2021-04-08\", \"2021-05-29\", \"2021-01-06\", …\n",
            "$ MES                         \u001b[3m\u001b[90m<chr>\u001b[39m\u001b[23m \"abril\", \"mayo\", \"enero\", \"diciembre\", \"ju…\n",
            "$ ANO                         \u001b[3m\u001b[90m<int>\u001b[39m\u001b[23m 2021, 2021, 2021, 2020, 2021, 2021, 2021, …\n",
            "$ DIAS                        \u001b[3m\u001b[90m<int>\u001b[39m\u001b[23m NA, 3, 10, 5, 2, 2, 8, 5, 1, 6, 7, 2, NA, …\n",
            "$ CIUDAD                      \u001b[3m\u001b[90m<chr>\u001b[39m\u001b[23m \"Sin dato\", \"Bogota\", \"Bogota\", \"Bogota\", …\n",
            "$ LOCALIDAD_ASIS              \u001b[3m\u001b[90m<chr>\u001b[39m\u001b[23m \"Sin dato\", \"Usaquen\", \"Suba\", \"Los Martir…\n",
            "$ EDAD                        \u001b[3m\u001b[90m<int>\u001b[39m\u001b[23m 26, 33, 15, 41, 17, 34, 57, 1, 22, 6, 25, …\n",
            "$ SEXO                        \u001b[3m\u001b[90m<chr>\u001b[39m\u001b[23m \"F\", \"M\", \"M\", \"F\", \"M\", \"F\", \"M\", \"F\", \"M…\n",
            "$ FUENTE_O_TIPO_DE_CONTAGIO   \u001b[3m\u001b[90m<chr>\u001b[39m\u001b[23m \"En estudio\", \"En estudio\", \"Relacionado\",…\n",
            "$ UBICACION                   \u001b[3m\u001b[90m<chr>\u001b[39m\u001b[23m \"Casa\", \"Casa\", \"Casa\", \"Casa\", \"Casa\", \"C…\n",
            "$ ESTADO                      \u001b[3m\u001b[90m<chr>\u001b[39m\u001b[23m \"Recuperado\", \"Recuperado\", \"Recuperado\", …\n",
            "$ SINTOMAS                    \u001b[3m\u001b[90m<chr>\u001b[39m\u001b[23m \"NO\", \"SI\", \"SI\", \"SI\", \"SI\", \"SI\", \"SI\", …\n"
          ]
        }
      ]
    },
    {
      "cell_type": "markdown",
      "source": [
        "Note que no ejecutamos la función en la forma usual: **glimpse(COVID_19)** sino que usamos el operador *Pipe*: **COVID19 %>% glimpse()**.\n",
        "\n",
        "El resultado es el mismo, pero la notación con **%>%** es más eficiente a la hora de manipular datos en R."
      ],
      "metadata": {
        "id": "V5CMRJ7ZerXP"
      }
    },
    {
      "cell_type": "markdown",
      "source": [
        "Analizando la salida de glimpse tenemos que las variables *AÑO*, *DIAS*, y *EDAD* están siendo interpretadas por R como numéricas (*int*) mientras que todas las demás son interpretadas como palabras (*chr*).\n",
        "\n",
        "En la base, las variables *MES*, *CIUDAD*, *LOCALIDAD_ASIS*, *SEXO*, *FUENTE_O_TIPO_DE_CONTAGIO*, *UBICACION*, *ESTADO* y *SINTOMAS* son categóricas/cualitativas y, por tanto, R debe interpretarlas como factores y no como caracteres. Así, que debemos modificar su tipología.\n",
        "\n",
        "Además, las variables *FECHA_INICIO_DE_SINTOMAS* y *FECHA_DIAGNOSTICO* al ser fechas no serán empleadas en nuestro posterior análisis descriptivo y, por tanto, vamos a retirarlas de la base de datos.\n",
        "\n",
        "Ambos procedimientos los hacemos simultáneamente con las funciones *select* y *mutate* de **tidyverse**. (Note aquí la utilidad del operador %>% para encadenar instrucciones)."
      ],
      "metadata": {
        "id": "9kVTXj53fDWb"
      }
    },
    {
      "cell_type": "code",
      "source": [
        "COVID <- COVID_19 %>%\n",
        "  select(-c(1,2)) %>%\n",
        "    mutate_if(is.character, as.factor)"
      ],
      "metadata": {
        "id": "S6TxEZ90f04U"
      },
      "execution_count": null,
      "outputs": []
    },
    {
      "cell_type": "markdown",
      "source": [
        "Inspeccionemos de nuevo la tipología de los datos"
      ],
      "metadata": {
        "id": "bwXwGO_-g-lI"
      }
    },
    {
      "cell_type": "code",
      "source": [
        "COVID %>% glimpse()"
      ],
      "metadata": {
        "colab": {
          "base_uri": "https://localhost:8080/"
        },
        "id": "PfLk6rVahBp1",
        "outputId": "c2987df8-3bd9-41a6-e83b-ad89d67dbff5"
      },
      "execution_count": null,
      "outputs": [
        {
          "output_type": "stream",
          "name": "stdout",
          "text": [
            "Rows: 1,000,000\n",
            "Columns: 11\n",
            "$ MES                       \u001b[3m\u001b[90m<fct>\u001b[39m\u001b[23m abril, mayo, enero, diciembre, junio, mayo, …\n",
            "$ ANO                       \u001b[3m\u001b[90m<int>\u001b[39m\u001b[23m 2021, 2021, 2021, 2020, 2021, 2021, 2021, 20…\n",
            "$ DIAS                      \u001b[3m\u001b[90m<int>\u001b[39m\u001b[23m NA, 3, 10, 5, 2, 2, 8, 5, 1, 6, 7, 2, NA, 13…\n",
            "$ CIUDAD                    \u001b[3m\u001b[90m<fct>\u001b[39m\u001b[23m Sin dato, Bogota, Bogota, Bogota, Bogota, Bo…\n",
            "$ LOCALIDAD_ASIS            \u001b[3m\u001b[90m<fct>\u001b[39m\u001b[23m Sin dato, Usaquen, Suba, Los Martires, Teusa…\n",
            "$ EDAD                      \u001b[3m\u001b[90m<int>\u001b[39m\u001b[23m 26, 33, 15, 41, 17, 34, 57, 1, 22, 6, 25, 14…\n",
            "$ SEXO                      \u001b[3m\u001b[90m<fct>\u001b[39m\u001b[23m F, M, M, F, M, F, M, F, M, M, M, F, F, M, F,…\n",
            "$ FUENTE_O_TIPO_DE_CONTAGIO \u001b[3m\u001b[90m<fct>\u001b[39m\u001b[23m En estudio, En estudio, Relacionado, En estu…\n",
            "$ UBICACION                 \u001b[3m\u001b[90m<fct>\u001b[39m\u001b[23m Casa, Casa, Casa, Casa, Casa, Casa, Casa, Ca…\n",
            "$ ESTADO                    \u001b[3m\u001b[90m<fct>\u001b[39m\u001b[23m Recuperado, Recuperado, Recuperado, Recupera…\n",
            "$ SINTOMAS                  \u001b[3m\u001b[90m<fct>\u001b[39m\u001b[23m NO, SI, SI, SI, SI, SI, SI, SI, SI, SI, SI, …\n"
          ]
        }
      ]
    },
    {
      "cell_type": "markdown",
      "source": [
        "¡Perfecto!"
      ],
      "metadata": {
        "id": "Yd451RnKhE1_"
      }
    },
    {
      "cell_type": "markdown",
      "source": [
        "### Conteos"
      ],
      "metadata": {
        "id": "Ig4_cgfuhQxI"
      }
    },
    {
      "cell_type": "markdown",
      "source": [
        "Con las funciones *distinct* y *count* podemos establecer, respectivamente, cuáles son los niveles/categorías de una variable cualitativa y cuántos registros hay en cada uno. Veamos:"
      ],
      "metadata": {
        "id": "NE96gZn4hT6G"
      }
    },
    {
      "cell_type": "code",
      "source": [
        "COVID %>% distinct(UBICACION)"
      ],
      "metadata": {
        "colab": {
          "base_uri": "https://localhost:8080/",
          "height": 255
        },
        "id": "SLnEww_KhN-I",
        "outputId": "29887820-e692-4122-efe6-e9af81d33ebf"
      },
      "execution_count": null,
      "outputs": [
        {
          "output_type": "display_data",
          "data": {
            "text/html": [
              "<table class=\"dataframe\">\n",
              "<caption>A data.frame: 5 × 1</caption>\n",
              "<thead>\n",
              "\t<tr><th scope=col>UBICACION</th></tr>\n",
              "\t<tr><th scope=col>&lt;fct&gt;</th></tr>\n",
              "</thead>\n",
              "<tbody>\n",
              "\t<tr><td>Casa                 </td></tr>\n",
              "\t<tr><td>Fallecido            </td></tr>\n",
              "\t<tr><td>Fallecido (No aplica)</td></tr>\n",
              "\t<tr><td>Hospital             </td></tr>\n",
              "\t<tr><td>Hospital UCI         </td></tr>\n",
              "</tbody>\n",
              "</table>\n"
            ],
            "text/markdown": "\nA data.frame: 5 × 1\n\n| UBICACION &lt;fct&gt; |\n|---|\n| Casa                  |\n| Fallecido             |\n| Fallecido (No aplica) |\n| Hospital              |\n| Hospital UCI          |\n\n",
            "text/latex": "A data.frame: 5 × 1\n\\begin{tabular}{l}\n UBICACION\\\\\n <fct>\\\\\n\\hline\n\t Casa                 \\\\\n\t Fallecido            \\\\\n\t Fallecido (No aplica)\\\\\n\t Hospital             \\\\\n\t Hospital UCI         \\\\\n\\end{tabular}\n",
            "text/plain": [
              "  UBICACION            \n",
              "1 Casa                 \n",
              "2 Fallecido            \n",
              "3 Fallecido (No aplica)\n",
              "4 Hospital             \n",
              "5 Hospital UCI         "
            ]
          },
          "metadata": {}
        }
      ]
    },
    {
      "cell_type": "code",
      "source": [
        "COVID %>% count(UBICACION)"
      ],
      "metadata": {
        "colab": {
          "base_uri": "https://localhost:8080/",
          "height": 255
        },
        "id": "9mlxTOnahvez",
        "outputId": "a7add4ee-8932-4a62-b407-5a779d2e2f9d"
      },
      "execution_count": null,
      "outputs": [
        {
          "output_type": "display_data",
          "data": {
            "text/html": [
              "<table class=\"dataframe\">\n",
              "<caption>A data.frame: 5 × 2</caption>\n",
              "<thead>\n",
              "\t<tr><th scope=col>UBICACION</th><th scope=col>n</th></tr>\n",
              "\t<tr><th scope=col>&lt;fct&gt;</th><th scope=col>&lt;int&gt;</th></tr>\n",
              "</thead>\n",
              "<tbody>\n",
              "\t<tr><td>Casa                 </td><td>977656</td></tr>\n",
              "\t<tr><td>Fallecido            </td><td> 19103</td></tr>\n",
              "\t<tr><td>Fallecido (No aplica)</td><td>  2965</td></tr>\n",
              "\t<tr><td>Hospital             </td><td>   135</td></tr>\n",
              "\t<tr><td>Hospital UCI         </td><td>   141</td></tr>\n",
              "</tbody>\n",
              "</table>\n"
            ],
            "text/markdown": "\nA data.frame: 5 × 2\n\n| UBICACION &lt;fct&gt; | n &lt;int&gt; |\n|---|---|\n| Casa                  | 977656 |\n| Fallecido             |  19103 |\n| Fallecido (No aplica) |   2965 |\n| Hospital              |    135 |\n| Hospital UCI          |    141 |\n\n",
            "text/latex": "A data.frame: 5 × 2\n\\begin{tabular}{ll}\n UBICACION & n\\\\\n <fct> & <int>\\\\\n\\hline\n\t Casa                  & 977656\\\\\n\t Fallecido             &  19103\\\\\n\t Fallecido (No aplica) &   2965\\\\\n\t Hospital              &    135\\\\\n\t Hospital UCI          &    141\\\\\n\\end{tabular}\n",
            "text/plain": [
              "  UBICACION             n     \n",
              "1 Casa                  977656\n",
              "2 Fallecido              19103\n",
              "3 Fallecido (No aplica)   2965\n",
              "4 Hospital                 135\n",
              "5 Hospital UCI             141"
            ]
          },
          "metadata": {}
        }
      ]
    },
    {
      "cell_type": "markdown",
      "source": [
        "Es decir, en la base de datos hay 135 personas reportadas en el hospital al momento de hacer la medición y 19103 que aparecen registradas como fallecidas."
      ],
      "metadata": {
        "id": "u31vEQkfhz5p"
      }
    },
    {
      "cell_type": "markdown",
      "source": [
        "### Filtros"
      ],
      "metadata": {
        "id": "hy2sJLuoiBAh"
      }
    },
    {
      "cell_type": "markdown",
      "source": [
        "Vamos ahora a filtrar la base de datos en dos bases separadas: una para las personas que presentaron síntomas y otra para los pacientes asintomáticos.\n",
        "\n",
        "Para ello usaremos la función *filter* de **tidyverse** y la variable *SINTOMAS* de la base."
      ],
      "metadata": {
        "id": "lIAwRsQfiCym"
      }
    },
    {
      "cell_type": "code",
      "source": [
        "COVID_ASIN <- COVID %>% filter(SINTOMAS == \"NO\")\n",
        "COVID_CON <- COVID %>% filter(SINTOMAS == \"SI\")"
      ],
      "metadata": {
        "id": "uWQQct_MiU-D"
      },
      "execution_count": null,
      "outputs": []
    }
  ]
}
